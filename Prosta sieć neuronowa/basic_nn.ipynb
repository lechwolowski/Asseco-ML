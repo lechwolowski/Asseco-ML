{
 "cells": [
  {
   "cell_type": "code",
   "execution_count": 1,
   "metadata": {
    "tags": []
   },
   "outputs": [
    {
     "output_type": "stream",
     "name": "stdout",
     "text": "for iteration # 0\n\nInput : \n[[0. 0. 1.]\n [1. 1. 1.]\n [0. 1. 1.]\n [1. 0. 1.]]\nActual Output: \n[[0.]\n [0.]\n [1.]\n [1.]]\nPredicted Output: \n[[0.79775632]\n [0.8748627 ]\n [0.84219155]\n [0.85030337]]\nLoss: \n0.36227811856111103\n\n\nfor iteration # 10000\n\nInput : \n[[0. 0. 1.]\n [1. 1. 1.]\n [0. 1. 1.]\n [1. 0. 1.]]\nActual Output: \n[[0.]\n [0.]\n [1.]\n [1.]]\nPredicted Output: \n[[0.00768041]\n [0.00676464]\n [0.99125698]\n [0.99563992]]\nLoss: \n5.0049880532950354e-05\n\n\nfor iteration # 20000\n\nInput : \n[[0. 0. 1.]\n [1. 1. 1.]\n [0. 1. 1.]\n [1. 0. 1.]]\nActual Output: \n[[0.]\n [0.]\n [1.]\n [1.]]\nPredicted Output: \n[[0.00545461]\n [0.00457783]\n [0.99392458]\n [0.99711307]]\nLoss: \n2.398859404303916e-05\n\n\nfor iteration # 30000\n\nInput : \n[[0. 0. 1.]\n [1. 1. 1.]\n [0. 1. 1.]\n [1. 0. 1.]]\nActual Output: \n[[0.]\n [0.]\n [1.]\n [1.]]\nPredicted Output: \n[[0.00447169]\n [0.00366024]\n [0.99507239]\n [0.9977221 ]]\nLoss: \n1.5715884565944077e-05\n\n\nfor iteration # 40000\n\nInput : \n[[0. 0. 1.]\n [1. 1. 1.]\n [0. 1. 1.]\n [1. 0. 1.]]\nActual Output: \n[[0.]\n [0.]\n [1.]\n [1.]]\nPredicted Output: \n[[0.00388499]\n [0.00312808]\n [0.99574802]\n [0.99807189]]\nLoss: \n1.1668735548566317e-05\n\n\n"
    }
   ],
   "source": [
    "import numpy as np\n",
    "\n",
    "\n",
    "X = np.array((\n",
    "    [0, 0, 1],\n",
    "    [1, 1, 1],\n",
    "    [0, 1, 1],\n",
    "    [1, 0, 1]), dtype=float)\n",
    "y = np.array((\n",
    "    [0],\n",
    "    [0],\n",
    "    [1],\n",
    "    [1]), dtype=float)\n",
    "\n",
    "\n",
    "def sigmoid(t):\n",
    "  return 1/(1+np.exp(-t))\n",
    "\n",
    "\n",
    "def sigmoid_derivative(p):\n",
    "  return p * (1 - p)\n",
    "\n",
    "\n",
    "class NeuralNetwork:\n",
    "  def __init__(self):\n",
    "    self.weights1 = np.random.rand(3, 4)\n",
    "    self.weights2 = np.random.rand(4, 1)\n",
    "\n",
    "  def feedforward(self, x):\n",
    "    self.layer1 = sigmoid(np.dot(x, self.weights1))\n",
    "    self.layer2 = sigmoid(np.dot(self.layer1, self.weights2))\n",
    "    return self.layer2\n",
    "\n",
    "  def backprop(self, x, y, prediction):\n",
    "    d_weights2 = np.dot(\n",
    "        self.layer1.T, 2*(y - prediction) * sigmoid_derivative(prediction))\n",
    "    d_weights1 = np.dot(x.T, np.dot(2 * (y - prediction) * sigmoid_derivative(\n",
    "        prediction), self.weights2.T) * sigmoid_derivative(self.layer1))\n",
    "\n",
    "    self.weights1 += d_weights1\n",
    "    self.weights2 += d_weights2\n",
    "\n",
    "  def train(self, X, y, batch_size):\n",
    "    if batch_size > len(X):\n",
    "      batch_size = len(X)\n",
    "    batches = [[X[i: i + batch_size], y[i: i + batch_size]]\n",
    "               for i in range(0, len(X), batch_size)]\n",
    "\n",
    "    for batch in batches:\n",
    "      prediction = self.feedforward(batch[0])\n",
    "      self.backprop(batch[0], batch[1], prediction)\n",
    "\n",
    "  def predict(self, X):\n",
    "    return list(map(lambda x: 1 if x > 0.4 else 0, self.feedforward(X)))\n",
    "\n",
    "\n",
    "NN = NeuralNetwork()\n",
    "for i in range(50000):\n",
    "  if i % 10000 == 0:\n",
    "    print(\"for iteration # \" + str(i) + \"\\n\")\n",
    "    print(\"Input : \\n\" + str(X))\n",
    "    print(\"Actual Output: \\n\" + str(y))\n",
    "    print(\"Predicted Output: \\n\" + str(NN.feedforward(X)))\n",
    "    print(\"Loss: \\n\" + str(np.mean(np.square(y - NN.feedforward(X)))))\n",
    "    print(\"\\n\")\n",
    "\n",
    "  NN.train(X, y, batch_size=3)\n"
   ]
  },
  {
   "cell_type": "code",
   "execution_count": 49,
   "metadata": {},
   "outputs": [
    {
     "output_type": "execute_result",
     "data": {
      "text/plain": "      Inputs  Output  Network Prediction  Network Output\n0  [0, 0, 1]       0            0.003484               0\n1  [1, 1, 1]       0            0.002771               0\n2  [0, 1, 1]       1            0.996206               1\n3  [1, 0, 1]       1            0.998305               1",
      "text/html": "<div>\n<style scoped>\n    .dataframe tbody tr th:only-of-type {\n        vertical-align: middle;\n    }\n\n    .dataframe tbody tr th {\n        vertical-align: top;\n    }\n\n    .dataframe thead th {\n        text-align: right;\n    }\n</style>\n<table border=\"1\" class=\"dataframe\">\n  <thead>\n    <tr style=\"text-align: right;\">\n      <th></th>\n      <th>Inputs</th>\n      <th>Output</th>\n      <th>Network Prediction</th>\n      <th>Network Output</th>\n    </tr>\n  </thead>\n  <tbody>\n    <tr>\n      <th>0</th>\n      <td>[0, 0, 1]</td>\n      <td>0</td>\n      <td>0.003484</td>\n      <td>0</td>\n    </tr>\n    <tr>\n      <th>1</th>\n      <td>[1, 1, 1]</td>\n      <td>0</td>\n      <td>0.002771</td>\n      <td>0</td>\n    </tr>\n    <tr>\n      <th>2</th>\n      <td>[0, 1, 1]</td>\n      <td>1</td>\n      <td>0.996206</td>\n      <td>1</td>\n    </tr>\n    <tr>\n      <th>3</th>\n      <td>[1, 0, 1]</td>\n      <td>1</td>\n      <td>0.998305</td>\n      <td>1</td>\n    </tr>\n  </tbody>\n</table>\n</div>"
     },
     "metadata": {},
     "execution_count": 49
    }
   ],
   "source": [
    "import pandas as pd\n",
    "\n",
    "x_for_display = [[0, 0, 1], [1, 1, 1], [0, 1, 1], [1, 0, 1]]\n",
    "x_for_display = list(map(lambda x: str(x), x_for_display))\n",
    "\n",
    "y_for_display = [0, 0, 1, 1]\n",
    "pred_for_display = list(map(lambda x: x[0], NN.feedforward(X)))\n",
    "\n",
    "data = {\n",
    "    \"Inputs\": x_for_display,\n",
    "    \"Output\": y_for_display,\n",
    "    \"Network Prediction\": pred_for_display,\n",
    "    \"Network Output\": NN.predict(X)\n",
    "}\n",
    "\n",
    "pd.DataFrame(data)"
   ]
  }
 ],
 "metadata": {
  "language_info": {
   "codemirror_mode": {
    "name": "ipython",
    "version": 3
   },
   "file_extension": ".py",
   "mimetype": "text/x-python",
   "name": "python",
   "nbconvert_exporter": "python",
   "pygments_lexer": "ipython3",
   "version": 3
  },
  "orig_nbformat": 2,
  "kernelspec": {
   "name": "python_defaultSpec_1594075505557",
   "display_name": "Python 3.7.7 64-bit"
  }
 },
 "nbformat": 4,
 "nbformat_minor": 2
}