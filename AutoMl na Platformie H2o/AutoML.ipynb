{
 "cells": [
  {
   "cell_type": "code",
   "execution_count": 2,
   "metadata": {
    "tags": []
   },
   "outputs": [
    {
     "output_type": "stream",
     "name": "stdout",
     "text": "Checking whether there is an H2O instance running at http://localhost:54321. connected.\n"
    },
    {
     "output_type": "display_data",
     "data": {
      "text/plain": "--------------------------  ---------------------------------------------------------\nH2O_cluster_uptime:         11 secs\nH2O_cluster_timezone:       Europe/Belgrade\nH2O_data_parsing_timezone:  UTC\nH2O_cluster_version:        3.30.0.5\nH2O_cluster_version_age:    10 days\nH2O_cluster_name:           H2O_from_python_lechw_hgtkey\nH2O_cluster_total_nodes:    1\nH2O_cluster_free_memory:    238.4 Mb\nH2O_cluster_total_cores:    4\nH2O_cluster_allowed_cores:  4\nH2O_cluster_status:         locked, healthy\nH2O_connection_url:         http://localhost:54321\nH2O_connection_proxy:       {\"http\": null, \"https\": null}\nH2O_internal_security:      False\nH2O_API_Extensions:         Amazon S3, Algos, AutoML, Core V3, TargetEncoder, Core V4\nPython_version:             3.7.7 final\n--------------------------  ---------------------------------------------------------",
      "text/html": "<div style=\"overflow:auto\"><table style=\"width:50%\"><tr><td>H2O_cluster_uptime:</td>\n<td>11 secs</td></tr>\n<tr><td>H2O_cluster_timezone:</td>\n<td>Europe/Belgrade</td></tr>\n<tr><td>H2O_data_parsing_timezone:</td>\n<td>UTC</td></tr>\n<tr><td>H2O_cluster_version:</td>\n<td>3.30.0.5</td></tr>\n<tr><td>H2O_cluster_version_age:</td>\n<td>10 days </td></tr>\n<tr><td>H2O_cluster_name:</td>\n<td>H2O_from_python_lechw_hgtkey</td></tr>\n<tr><td>H2O_cluster_total_nodes:</td>\n<td>1</td></tr>\n<tr><td>H2O_cluster_free_memory:</td>\n<td>238.4 Mb</td></tr>\n<tr><td>H2O_cluster_total_cores:</td>\n<td>4</td></tr>\n<tr><td>H2O_cluster_allowed_cores:</td>\n<td>4</td></tr>\n<tr><td>H2O_cluster_status:</td>\n<td>locked, healthy</td></tr>\n<tr><td>H2O_connection_url:</td>\n<td>http://localhost:54321</td></tr>\n<tr><td>H2O_connection_proxy:</td>\n<td>{\"http\": null, \"https\": null}</td></tr>\n<tr><td>H2O_internal_security:</td>\n<td>False</td></tr>\n<tr><td>H2O_API_Extensions:</td>\n<td>Amazon S3, Algos, AutoML, Core V3, TargetEncoder, Core V4</td></tr>\n<tr><td>Python_version:</td>\n<td>3.7.7 final</td></tr></table></div>"
     },
     "metadata": {}
    },
    {
     "output_type": "stream",
     "name": "stdout",
     "text": "Parse progress: |█████████████████████████████████████████████████████████| 100%\n"
    }
   ],
   "source": [
    "import h2o\n",
    "import pandas\n",
    "from h2o.automl import H2OAutoML\n",
    "\n",
    "h2o.init()\n",
    "\n",
    "breast_tissue = h2o.import_file(\"BreastTissue.csv\")\n",
    "\n",
    "train, valid = breast_tissue.split_frame(ratios=[.8], seed=1)\n",
    "\n",
    "x = train.columns\n",
    "y = \"Class\"\n",
    "x.remove(y)"
   ]
  },
  {
   "cell_type": "code",
   "execution_count": 3,
   "metadata": {
    "tags": []
   },
   "outputs": [
    {
     "output_type": "stream",
     "name": "stdout",
     "text": "AutoML progress: |██\n15:48:18.62: User specified a validation frame with cross-validation still enabled. Please note that the models will still be validated using cross-validation only, the validation frame will be used to provide purely informative validation metrics on the trained models.\n15:48:18.77: AutoML: XGBoost is not available; skipping it.\n\n████████\n15:48:26.173: Skipping training of model GBM_5_AutoML_20200629_154818 due to exception: water.exceptions.H2OModelBuilderIllegalArgumentException: Illegal argument(s) for GBM model: GBM_5_AutoML_20200629_154818.  Details: ERRR on field: _min_rows: The dataset size is too small to split for min_rows=100.0: must have at least 200.0 (weighted) rows, but have only 91.0.\n\n\n██████████████████████████████████████████████| 100%\n"
    }
   ],
   "source": [
    "aml = H2OAutoML(max_models=20, seed=1)\n",
    "aml.train(x=x, y=y, training_frame=train, validation_frame=valid)"
   ]
  },
  {
   "cell_type": "code",
   "execution_count": 4,
   "metadata": {},
   "outputs": [
    {
     "output_type": "display_data",
     "data": {
      "text/html": "<table>\n<thead>\n<tr><th>model_id                                           </th><th style=\"text-align: right;\">  mean_per_class_error</th><th style=\"text-align: right;\">  logloss</th><th style=\"text-align: right;\">    rmse</th><th style=\"text-align: right;\">      mse</th></tr>\n</thead>\n<tbody>\n<tr><td>GBM_grid__1_AutoML_20200629_154818_model_4         </td><td style=\"text-align: right;\">             0.0461538</td><td style=\"text-align: right;\"> 0.223264</td><td style=\"text-align: right;\">0.234313</td><td style=\"text-align: right;\">0.0549027</td></tr>\n<tr><td>GBM_3_AutoML_20200629_154818                       </td><td style=\"text-align: right;\">             0.0554131</td><td style=\"text-align: right;\"> 0.22278 </td><td style=\"text-align: right;\">0.233845</td><td style=\"text-align: right;\">0.0546835</td></tr>\n<tr><td>GBM_4_AutoML_20200629_154818                       </td><td style=\"text-align: right;\">             0.0600427</td><td style=\"text-align: right;\"> 0.236244</td><td style=\"text-align: right;\">0.235211</td><td style=\"text-align: right;\">0.0553244</td></tr>\n<tr><td>GBM_2_AutoML_20200629_154818                       </td><td style=\"text-align: right;\">             0.069302 </td><td style=\"text-align: right;\"> 0.215687</td><td style=\"text-align: right;\">0.231168</td><td style=\"text-align: right;\">0.0534384</td></tr>\n<tr><td>GBM_1_AutoML_20200629_154818                       </td><td style=\"text-align: right;\">             0.069302 </td><td style=\"text-align: right;\"> 0.22053 </td><td style=\"text-align: right;\">0.236156</td><td style=\"text-align: right;\">0.0557696</td></tr>\n<tr><td>GBM_grid__1_AutoML_20200629_154818_model_6         </td><td style=\"text-align: right;\">             0.0878205</td><td style=\"text-align: right;\"> 0.243575</td><td style=\"text-align: right;\">0.240695</td><td style=\"text-align: right;\">0.0579342</td></tr>\n<tr><td>DeepLearning_grid__3_AutoML_20200629_154818_model_1</td><td style=\"text-align: right;\">             0.0915242</td><td style=\"text-align: right;\"> 0.980789</td><td style=\"text-align: right;\">0.2955  </td><td style=\"text-align: right;\">0.08732  </td></tr>\n<tr><td>XRT_1_AutoML_20200629_154818                       </td><td style=\"text-align: right;\">             0.0932336</td><td style=\"text-align: right;\"> 0.399387</td><td style=\"text-align: right;\">0.341233</td><td style=\"text-align: right;\">0.11644  </td></tr>\n<tr><td>GBM_grid__1_AutoML_20200629_154818_model_1         </td><td style=\"text-align: right;\">             0.0960114</td><td style=\"text-align: right;\"> 0.271713</td><td style=\"text-align: right;\">0.265733</td><td style=\"text-align: right;\">0.0706143</td></tr>\n<tr><td>GBM_grid__1_AutoML_20200629_154818_model_2         </td><td style=\"text-align: right;\">             0.101567 </td><td style=\"text-align: right;\"> 0.349751</td><td style=\"text-align: right;\">0.314978</td><td style=\"text-align: right;\">0.0992112</td></tr>\n<tr><td>DeepLearning_grid__2_AutoML_20200629_154818_model_1</td><td style=\"text-align: right;\">             0.113746 </td><td style=\"text-align: right;\"> 1.26806 </td><td style=\"text-align: right;\">0.326679</td><td style=\"text-align: right;\">0.106719 </td></tr>\n<tr><td>GBM_grid__1_AutoML_20200629_154818_model_3         </td><td style=\"text-align: right;\">             0.121937 </td><td style=\"text-align: right;\"> 0.381813</td><td style=\"text-align: right;\">0.340991</td><td style=\"text-align: right;\">0.116275 </td></tr>\n<tr><td>DeepLearning_grid__1_AutoML_20200629_154818_model_1</td><td style=\"text-align: right;\">             0.135969 </td><td style=\"text-align: right;\"> 1.07461 </td><td style=\"text-align: right;\">0.351462</td><td style=\"text-align: right;\">0.123525 </td></tr>\n<tr><td>DRF_1_AutoML_20200629_154818                       </td><td style=\"text-align: right;\">             0.146937 </td><td style=\"text-align: right;\"> 0.762468</td><td style=\"text-align: right;\">0.366177</td><td style=\"text-align: right;\">0.134086 </td></tr>\n<tr><td>GLM_1_AutoML_20200629_154818                       </td><td style=\"text-align: right;\">             0.157265 </td><td style=\"text-align: right;\"> 0.502751</td><td style=\"text-align: right;\">0.400211</td><td style=\"text-align: right;\">0.160169 </td></tr>\n<tr><td>DeepLearning_grid__1_AutoML_20200629_154818_model_2</td><td style=\"text-align: right;\">             0.174858 </td><td style=\"text-align: right;\"> 0.776783</td><td style=\"text-align: right;\">0.385995</td><td style=\"text-align: right;\">0.148992 </td></tr>\n<tr><td>DeepLearning_grid__3_AutoML_20200629_154818_model_2</td><td style=\"text-align: right;\">             0.224715 </td><td style=\"text-align: right;\"> 1.60537 </td><td style=\"text-align: right;\">0.460189</td><td style=\"text-align: right;\">0.211774 </td></tr>\n<tr><td>GBM_grid__1_AutoML_20200629_154818_model_5         </td><td style=\"text-align: right;\">             0.235969 </td><td style=\"text-align: right;\"> 0.734271</td><td style=\"text-align: right;\">0.498062</td><td style=\"text-align: right;\">0.248066 </td></tr>\n<tr><td>DeepLearning_grid__2_AutoML_20200629_154818_model_2</td><td style=\"text-align: right;\">             0.250356 </td><td style=\"text-align: right;\"> 1.64108 </td><td style=\"text-align: right;\">0.457611</td><td style=\"text-align: right;\">0.209408 </td></tr>\n<tr><td>DeepLearning_1_AutoML_20200629_154818              </td><td style=\"text-align: right;\">             0.653063 </td><td style=\"text-align: right;\"> 1.23891 </td><td style=\"text-align: right;\">0.684136</td><td style=\"text-align: right;\">0.468042 </td></tr>\n<tr><td>StackedEnsemble_AllModels_AutoML_20200629_154818   </td><td style=\"text-align: right;\">             0.833333 </td><td style=\"text-align: right;\"> 1.78055 </td><td style=\"text-align: right;\">0.829978</td><td style=\"text-align: right;\">0.688864 </td></tr>\n<tr><td>StackedEnsemble_BestOfFamily_AutoML_20200629_154818</td><td style=\"text-align: right;\">             0.833333 </td><td style=\"text-align: right;\"> 1.78055 </td><td style=\"text-align: right;\">0.829978</td><td style=\"text-align: right;\">0.688864 </td></tr>\n</tbody>\n</table>"
     },
     "metadata": {}
    },
    {
     "output_type": "execute_result",
     "data": {
      "text/plain": ""
     },
     "metadata": {},
     "execution_count": 4
    }
   ],
   "source": [
    "lb = aml.leaderboard\n",
    "lb.head(rows=lb.nrows)"
   ]
  },
  {
   "cell_type": "code",
   "execution_count": 29,
   "metadata": {
    "tags": []
   },
   "outputs": [],
   "source": [
    "best_model = aml.leader"
   ]
  },
  {
   "cell_type": "code",
   "execution_count": 51,
   "metadata": {},
   "outputs": [
    {
     "output_type": "execute_result",
     "data": {
      "text/plain": "'C:\\\\Users\\\\lechw\\\\Projects\\\\Asseco\\\\GBM_grid__1_AutoML_20200629_154818_model_4.zip'"
     },
     "metadata": {},
     "execution_count": 51
    }
   ],
   "source": [
    "best_model.save_mojo()"
   ]
  },
  {
   "cell_type": "code",
   "execution_count": 49,
   "metadata": {
    "tags": []
   },
   "outputs": [],
   "source": [
    "data_frame = best_model.confusion_matrix(breast_tissue).as_data_frame().to_csv(\"confusion_matrix.csv\")"
   ]
  },
  {
   "cell_type": "code",
   "execution_count": 105,
   "metadata": {
    "tags": []
   },
   "outputs": [
    {
     "output_type": "stream",
     "name": "stdout",
     "text": "\nModelMetricsMultinomial: gbm\n** Reported on test data. **\n\nMSE: 0.002096964589768975\nRMSE: 0.04579262593222816\nLogLoss: 0.022219636391365476\nMean Per-Class Error: 0.0\n\nConfusion Matrix: Row labels: Actual class; Column labels: Predicted class\n"
    },
    {
     "output_type": "display_data",
     "data": {
      "text/plain": "    adi   car   con   fad   gla   mas  Error     Rate\n0  22.0   0.0   0.0   0.0   0.0   0.0    0.0   0 / 22\n1   0.0  21.0   0.0   0.0   0.0   0.0    0.0   0 / 21\n2   0.0   0.0  14.0   0.0   0.0   0.0    0.0   0 / 14\n3   0.0   0.0   0.0  15.0   0.0   0.0    0.0   0 / 15\n4   0.0   0.0   0.0   0.0  16.0   0.0    0.0   0 / 16\n5   0.0   0.0   0.0   0.0   0.0  18.0    0.0   0 / 18\n6  22.0  21.0  14.0  15.0  16.0  18.0    0.0  0 / 106",
      "text/html": "<div>\n<style scoped>\n    .dataframe tbody tr th:only-of-type {\n        vertical-align: middle;\n    }\n\n    .dataframe tbody tr th {\n        vertical-align: top;\n    }\n\n    .dataframe thead th {\n        text-align: right;\n    }\n</style>\n<table border=\"1\" class=\"dataframe\">\n  <thead>\n    <tr style=\"text-align: right;\">\n      <th></th>\n      <th>adi</th>\n      <th>car</th>\n      <th>con</th>\n      <th>fad</th>\n      <th>gla</th>\n      <th>mas</th>\n      <th>Error</th>\n      <th>Rate</th>\n    </tr>\n  </thead>\n  <tbody>\n    <tr>\n      <th>0</th>\n      <td>22.0</td>\n      <td>0.0</td>\n      <td>0.0</td>\n      <td>0.0</td>\n      <td>0.0</td>\n      <td>0.0</td>\n      <td>0.0</td>\n      <td>0 / 22</td>\n    </tr>\n    <tr>\n      <th>1</th>\n      <td>0.0</td>\n      <td>21.0</td>\n      <td>0.0</td>\n      <td>0.0</td>\n      <td>0.0</td>\n      <td>0.0</td>\n      <td>0.0</td>\n      <td>0 / 21</td>\n    </tr>\n    <tr>\n      <th>2</th>\n      <td>0.0</td>\n      <td>0.0</td>\n      <td>14.0</td>\n      <td>0.0</td>\n      <td>0.0</td>\n      <td>0.0</td>\n      <td>0.0</td>\n      <td>0 / 14</td>\n    </tr>\n    <tr>\n      <th>3</th>\n      <td>0.0</td>\n      <td>0.0</td>\n      <td>0.0</td>\n      <td>15.0</td>\n      <td>0.0</td>\n      <td>0.0</td>\n      <td>0.0</td>\n      <td>0 / 15</td>\n    </tr>\n    <tr>\n      <th>4</th>\n      <td>0.0</td>\n      <td>0.0</td>\n      <td>0.0</td>\n      <td>0.0</td>\n      <td>16.0</td>\n      <td>0.0</td>\n      <td>0.0</td>\n      <td>0 / 16</td>\n    </tr>\n    <tr>\n      <th>5</th>\n      <td>0.0</td>\n      <td>0.0</td>\n      <td>0.0</td>\n      <td>0.0</td>\n      <td>0.0</td>\n      <td>18.0</td>\n      <td>0.0</td>\n      <td>0 / 18</td>\n    </tr>\n    <tr>\n      <th>6</th>\n      <td>22.0</td>\n      <td>21.0</td>\n      <td>14.0</td>\n      <td>15.0</td>\n      <td>16.0</td>\n      <td>18.0</td>\n      <td>0.0</td>\n      <td>0 / 106</td>\n    </tr>\n  </tbody>\n</table>\n</div>"
     },
     "metadata": {}
    },
    {
     "output_type": "stream",
     "name": "stdout",
     "text": "\nTop-6 Hit Ratios:\n"
    },
    {
     "output_type": "display_data",
     "data": {
      "text/plain": "   k  hit_ratio\n0  1        1.0\n1  2        1.0\n2  3        1.0\n3  4        1.0\n4  5        1.0\n5  6        1.0",
      "text/html": "<div>\n<style scoped>\n    .dataframe tbody tr th:only-of-type {\n        vertical-align: middle;\n    }\n\n    .dataframe tbody tr th {\n        vertical-align: top;\n    }\n\n    .dataframe thead th {\n        text-align: right;\n    }\n</style>\n<table border=\"1\" class=\"dataframe\">\n  <thead>\n    <tr style=\"text-align: right;\">\n      <th></th>\n      <th>k</th>\n      <th>hit_ratio</th>\n    </tr>\n  </thead>\n  <tbody>\n    <tr>\n      <th>0</th>\n      <td>1</td>\n      <td>1.0</td>\n    </tr>\n    <tr>\n      <th>1</th>\n      <td>2</td>\n      <td>1.0</td>\n    </tr>\n    <tr>\n      <th>2</th>\n      <td>3</td>\n      <td>1.0</td>\n    </tr>\n    <tr>\n      <th>3</th>\n      <td>4</td>\n      <td>1.0</td>\n    </tr>\n    <tr>\n      <th>4</th>\n      <td>5</td>\n      <td>1.0</td>\n    </tr>\n    <tr>\n      <th>5</th>\n      <td>6</td>\n      <td>1.0</td>\n    </tr>\n  </tbody>\n</table>\n</div>"
     },
     "metadata": {}
    },
    {
     "output_type": "execute_result",
     "data": {
      "text/plain": ""
     },
     "metadata": {},
     "execution_count": 105
    }
   ],
   "source": [
    "best_model.model_performance(breast_tissue)"
   ]
  },
  {
   "cell_type": "code",
   "execution_count": null,
   "metadata": {},
   "outputs": [],
   "source": []
  }
 ],
 "metadata": {
  "language_info": {
   "codemirror_mode": {
    "name": "ipython",
    "version": 3
   },
   "file_extension": ".py",
   "mimetype": "text/x-python",
   "name": "python",
   "nbconvert_exporter": "python",
   "pygments_lexer": "ipython3",
   "version": "3.7.7-final"
  },
  "orig_nbformat": 2,
  "kernelspec": {
   "name": "python37764bitenvvenv1408d131a1e24f528ca6c994cd325207",
   "display_name": "Python 3.7.7 64-bit ('env': venv)"
  }
 },
 "nbformat": 4,
 "nbformat_minor": 2
}